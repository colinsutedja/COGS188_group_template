{
 "cells": [
  {
   "cell_type": "markdown",
   "metadata": {},
   "source": [
    "# COGS 188 - Project Proposal"
   ]
  },
  {
   "cell_type": "markdown",
   "metadata": {},
   "source": [
    "# Names\n",
    "\n",
    "- Colin Sutedja\n",
    "- Elizabeth Lee\n"
   ]
  },
  {
   "cell_type": "markdown",
   "metadata": {},
   "source": [
    "# Abstract \n",
    "The goal of this project is to develop an AI-generated model to optimize moves of players in the game of chess. The data that will be used are various positions that users can take and move as well as the results, which is measured in states of the boards, player moves, and the resulting state of the game. The success will be measured by the model's ability to optimize winning the game or getting strategic advantages. Each move will be given a negative value, and the final outcome of checkmate will be given a value of +1 to the winning player and a value of -1 to the losing player. The negative values will convince the player to make more strategic decisions in order to optimize the resulting reward."
   ]
  },
  {
   "cell_type": "markdown",
   "metadata": {},
   "source": [
    "# Background\n",
    "Chess is a game of intricate strategies and tactics which has captivated many players all around the world. This game has two players, white and black, with six different types of pieces – the pawn, rook, knight, bishop, queen, and king, where each piece has a unique power and limitation, shaping the dynamic flow of the game. The goal of the game is to protect the king from being captured while also attempting to take the opponent player’s king. The pawn is only able to move forward one square but can also capture the opposing teams pieces diagonally one square ahead. The rooks are able to move horizontally or vertically as long as there are no obstacle pieces in the way. Knights are able to move in a L-shape in any direction, and they are able to jump over pieces in their path. Bishops are able to move diagonally as long as there are no obstacle pieces in the way. Queens can move in any direction as long as there are no obstacles as well. Kings can only move one square in any direction. \n",
    "\n",
    "\n",
    "A game of chess can be divided into three phases of the opening, the middlegame, and the endgame. The opening is often used to focus on developing pieces and taking control of the board. The middlegame is to carry out unique tactics to attack against the opponent player’s king and take as many kills as possible. The endgame is used to promote pawns to make their final attack against the opponent’s king. \n",
    "<a name=\"britannicanote\"></a>[<sup>[1]</sup>](#britannica)\n",
    "\n",
    "\n",
    "Furthermore, computers and AI have been used in the realm of the game of chess for many years. In 1948, Claude Shannon released a paper that focused on how developing a chess program would result in machines that could either work as language translators or for military strategy. Shannon emphasized that the machine would have to select moves that were legal while making sure it was minimizing the possibility of future positions that resulted in checkmates. The evaluation function that was used focused on how each position of the player was to weigh a multitude of different criteria such as: condition of the pawns, the mobility of the other types of pieces, and higher emphasis on pieces that were placed in a higher advantageous position. These evaluation functions allowed the machine to determine which actions were more favorable for the player.<a name=\"stanfordnote\"></a>[<sup>[2]</sup>](#stanford)"
   ]
  },
  {
   "cell_type": "markdown",
   "metadata": {},
   "source": [
    "# Problem Statement\n",
    "\n",
    "The problem that we are addressing is evaluating the most optimal chess positions for a player. A game of chess involves analyzing each position based on the strengths of the game pieces as well as evaluating the likelihood of the players winning the game from that state. More specifically, the reward system would be an evaluation function based on the strength of the board state, which would give a numerical score based on how favorable it is for the current player. This value would take into account factors such as the safety of the king, which player has control of essential squares, etc. Each piece of each player would be given a value based on the strength of the piece, for example, a pawn would have a smaller value than a queen. Additionally for factors such as king safety or overall board control will also get a small positive reward until one player reaches checkmate. This problem can be quantifiable through the numerical value that is given for each action of each player. It is measurable as the performance of the evaluation value can be assessed using metrics such as accuracy, precision, and predicting outcomes. Lastly, this problem is also replicable because each type of action (moving one action, taking a piece from the opposite player, gaining checkmate, etc) has a value applied to it, and the model training process can be repeated through different move configurations."
   ]
  },
  {
   "cell_type": "markdown",
   "metadata": {},
   "source": [
    "# Data\n",
    "\n",
    "For our proposed solution is Minimax and Alpha-Beta pruning, a reward mechanism is used to assign a numerical value to each game position, which shows how desirable that position of the game is for the current playing player. For the successful result of a checkmate, the player will receive a positive reward of +1, which indicates a win. When a checkmate has not occurred, the rewards are given to each position based on whether they: \n",
    "\n",
    "1. Have a valuable or flexible piece on the board will give a positive reward\n",
    "2. If the King’s safety will soon be jeopardized, a negative reward will be given\n",
    "3. Every other middle ground move will receive a small positive reward to promote winning faster\n",
    "\n",
    "For the Minimax algorithm, when it reaches the end node, it will evaluate the state of the board using the reward system and determine the score for that node. The algorithm will then propagate these scores from the end nodes back up the tree and select the most optimal next move, which is the highest score for the maximizing player and the lowest for the opponent player. Alpha-Beta Pruning will help find the most optimal move by not exploring unhelpful nodes. "
   ]
  },
  {
   "cell_type": "markdown",
   "metadata": {},
   "source": [
    "# Proposed Solution\n",
    "\n",
    "The proposed solution for our AI-generated model would be to use a Minimax algorithm with Alpha-Beta pruning because we know that a game of chess is deterministic with each move a player makes and the environment is fully observable. This makes it ideal to use the Minimax algorithm since we also know the rules to the game in which each player is trying to maximize their chances of winning. With this algorithm, we would have a tree that alternates at each level to represent alternating taking turns within the game and recursively check the tree to determine the most optimal move and path the AI would make when considering the opponent’s move as well. Then with Alpha-Beta pruning, this allows the AI to be more efficient as it will prune the nodes that are not helpful to explore, since we want to get checkmate with the least amount of moves. This solution would work within our environment of chess since we know that the game is finite, which means that if our AI makes the best moves to maximize its chances of winning and minimize its opponent’s, while the opponent does the same, one person will win, the other lose, or a possible draw. A benchmark model we could use against our solution would be to compare its performance to other chess models and players to see if our solution is performing well compared to others."
   ]
  },
  {
   "cell_type": "markdown",
   "metadata": {},
   "source": [
    "# Evaluation Metrics\n",
    "\n",
    "An evaluation metric that can be used for the performance of the benchmark model and solution model would be the win rate. This benchmark model could be Stockfish<a name=\"stockfishnote\"></a>[<sup>[3]</sup>](#stockfish), which is an open source chess engine that holds a database of human-made moves in which it learns by playing against other human players. This evaluation metric of win rate is derived from dividing the number of games won by the total number of games played. A mathematical representation of this would be Win Rate = (number of games won) / (number of games played) x 100 which would give us a percentage of how well our model is performing where we would like to see a high percentage for win rates."
   ]
  },
  {
   "cell_type": "markdown",
   "metadata": {},
   "source": [
    "# Ethics & Privacy"
   ]
  },
  {
   "cell_type": "markdown",
   "metadata": {},
   "source": [
    "Some unintended consequences that we may run into could be the enjoyment of people that would play against our AI if we are able to have a very strong model that is able to win consistently without error. This could lead to impacting the human and their enjoyment while playing which could create more consequences if this enjoyment leads to other violent actions per say. To address this we could implement a way for the AI to have levels of difficulty in order to make the player have a more fair chance of winning as well."
   ]
  },
  {
   "cell_type": "markdown",
   "metadata": {},
   "source": [
    "# Team Expectations "
   ]
  },
  {
   "cell_type": "markdown",
   "metadata": {},
   "source": [
    "* *Respond punctually to updates/text messages*\n",
    "* *Be communicative about issues that arise from doing the project or attending meetings*\n",
    "* *Be communicative also about updates or advice from TA’s*\n",
    "* *Review/revise all material before submission (for all team members)*\n",
    "* *Meet deadlines that we set for each other*"
   ]
  },
  {
   "cell_type": "markdown",
   "metadata": {},
   "source": [
    "# Project Timeline Proposal"
   ]
  },
  {
   "cell_type": "markdown",
   "metadata": {},
   "source": [
    "| Meeting Date  | Meeting Time| Completed Before Meeting  | Discuss at Meeting |\n",
    "|---|---|---|---|\n",
    "| 5/10  |  11 AM |  Brainstorm topics  | Determine best form of communication; Discuss which topic to do | \n",
    "| 5/12  |  5 PM |  Assigned portions of project proposal | Overview each other’s portion of proposal and revise anything needed | \n",
    "| 5/16  | 10 AM  | Finalize proposal and submission  | Discuss any possible edits and submit proposal together |\n",
    "| 5/18  | 8 PM  | Initial sample of the code | Work through the code and add more together to see if this would work |\n",
    "| 5/23  | 10 AM  | Second draft of the code; test together | Discuss any edits for the code, test together with help of TA |\n",
    "| 6/5  | 10 PM  | Project Submission| Make last minute edits, draft up the write-up, submission |"
   ]
  },
  {
   "cell_type": "markdown",
   "metadata": {},
   "source": [
    "# Footnotes\n",
    "<a name=\"britannicanote\"></a>1.[^](#britannica): \"The time element and competition.\" Encyclopædia Britannica, Encyclopædia Britannica, inc., Accessed May 13, 2024, https://www.britannica.com/topic/chess/The-time-element-and-competition. <br>\n",
    "<a name=\"stanfordnote\"></a>2.[^](#stanford): \"Deep Blue.\" Stanford University, Accessed May 13, 2024, https://stanford.edu/~cpiech/cs221/apps/deepBlue.html#:~:text=In%201950%2C%20Claude%20Shannon%20published,into%20account%20the%20efficacy%20of. \n",
    "<a name=\"stockfishnote\"></a>3.[^](#stockfish): \"Stockfish Chess Engine.\" Chess Terms, Accessed May 14, 2024, https://www.chess.com/terms/stockfish-chess-engine"
   ]
  }
 ],
 "metadata": {
  "kernelspec": {
   "display_name": "Python 3 (ipykernel)",
   "language": "python",
   "name": "python3"
  },
  "language_info": {
   "codemirror_mode": {
    "name": "ipython",
    "version": 3
   },
   "file_extension": ".py",
   "mimetype": "text/x-python",
   "name": "python",
   "nbconvert_exporter": "python",
   "pygments_lexer": "ipython3",
   "version": "3.11.5"
  }
 },
 "nbformat": 4,
 "nbformat_minor": 4
}
